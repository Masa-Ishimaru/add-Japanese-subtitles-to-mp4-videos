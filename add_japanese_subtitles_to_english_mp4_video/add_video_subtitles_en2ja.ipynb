{
 "cells": [
  {
   "cell_type": "code",
   "execution_count": null,
   "id": "d343129e",
   "metadata": {},
   "outputs": [],
   "source": [
    "from pydub import AudioSegment\n",
    "from moviepy.editor import VideoFileClip\n",
    "import time\n",
    "import glob\n",
    "import os\n",
    "import re\n",
    "from datetime import timedelta\n",
    "import subprocess\n",
    "from srt import Subtitle\n",
    "import srt\n",
    "import shutil\n",
    "from IPython.display import clear_output\n",
    "import pandas as pd\n",
    "import whisper"
   ]
  },
  {
   "cell_type": "code",
   "execution_count": null,
   "id": "6862cd0d",
   "metadata": {},
   "outputs": [],
   "source": [
    "# 必要なフォルダを作成\n",
    "\n",
    "os.makedirs('input_video', exist_ok = True)                   # 翻訳字幕を付けたいmp4 videoを入れる その他は空でよい\n",
    "os.makedirs('output_video_with_subtitle', exist_ok = True)\n",
    "os.makedirs('input_audio', exist_ok = True)\n",
    "os.makedirs('csv_files', exist_ok = True)\n",
    "os.makedirs('excel_files_for_srt', exist_ok = True)\n",
    "os.makedirs('excel_files_for_srt_ja', exist_ok = True)\n",
    "os.makedirs('srt_files_ja', exist_ok = True)"
   ]
  },
  {
   "cell_type": "code",
   "execution_count": null,
   "id": "c34552ef",
   "metadata": {},
   "outputs": [],
   "source": [
    "wp_path = os.getcwd()\n",
    "print(wp_path)"
   ]
  },
  {
   "cell_type": "code",
   "execution_count": null,
   "id": "28ffc1a6",
   "metadata": {},
   "outputs": [],
   "source": [
    "files = glob.glob('./input_video/*.mp4')\n",
    "files = [file.replace('\\\\', '/') for file in files]\n",
    "files"
   ]
  },
  {
   "cell_type": "code",
   "execution_count": null,
   "id": "504a2d0f",
   "metadata": {},
   "outputs": [],
   "source": [
    "files[0]"
   ]
  },
  {
   "cell_type": "code",
   "execution_count": null,
   "id": "19e761f2",
   "metadata": {},
   "outputs": [],
   "source": [
    "# pathを渡すと動画名のみを返す関数\n",
    "\n",
    "def extract_video_name(video_path):\n",
    "    p = r'\\/(.*)\\.'\n",
    "    video_name = re.findall(p, video_path)\n",
    "    video_name = video_name[0].split('/')[-1]\n",
    "    return video_name"
   ]
  },
  {
   "cell_type": "code",
   "execution_count": null,
   "id": "f9ac4a22",
   "metadata": {},
   "outputs": [],
   "source": [
    "# テスト\n",
    "\n",
    "extract_video_name(files[0])"
   ]
  },
  {
   "cell_type": "markdown",
   "id": "8296b2db",
   "metadata": {},
   "source": [
    "## mp4からmp3を取り出す"
   ]
  },
  {
   "cell_type": "code",
   "execution_count": null,
   "id": "089273b7",
   "metadata": {},
   "outputs": [],
   "source": [
    "for file in files:\n",
    "    input_path = file\n",
    "    output_path_mother = './input_audio/'\n",
    "    video_name = extract_video_name(file)\n",
    "    \n",
    "    # ビデオから音声ファイルを抽出しmp3で別のフォルダに保存\n",
    "    video_clip = VideoFileClip(file)\n",
    "    video_clip.audio.write_audiofile(output_path_mother + video_name + '.mp3')"
   ]
  },
  {
   "cell_type": "markdown",
   "id": "04666832",
   "metadata": {},
   "source": [
    "## 文字起こし"
   ]
  },
  {
   "cell_type": "code",
   "execution_count": null,
   "id": "d8889377",
   "metadata": {},
   "outputs": [],
   "source": [
    "audio_files = glob.glob('./input_audio/*.mp3')\n",
    "audio_files = [file.replace('\\\\', '/') for file in audio_files]\n",
    "audio_files"
   ]
  },
  {
   "cell_type": "code",
   "execution_count": null,
   "id": "7a76fabe",
   "metadata": {},
   "outputs": [],
   "source": [
    "model = whisper.load_model('large')"
   ]
  },
  {
   "cell_type": "code",
   "execution_count": null,
   "id": "fab52d81",
   "metadata": {},
   "outputs": [],
   "source": [
    "for audio_file in audio_files:\n",
    "    clear_output()\n",
    "    \n",
    "    # オーディオファイル情報の表示\n",
    "    sound_input = AudioSegment.from_file(audio_file, format = \"mp3\")\n",
    "    sound_duration = sound_input.duration_seconds\n",
    "    print('audio duration = ', round(sound_duration / 60, 2), 'min\\n')    \n",
    "\n",
    "    # 文字起こし\n",
    "    result  = model.transcribe(audio_file, verbose = True, language = \"en\")\n",
    "    seginfo = result[\"segments\"]\n",
    "    out_text= []\n",
    "\n",
    "    # segment情報から発言の開始/終了時間とテキストを抜き出し、srt形式で編集する\n",
    "    for data in seginfo:\n",
    "        start = data[\"start\"]\n",
    "        end   = data[\"end\"]\n",
    "        text  = data[\"text\"]\n",
    "        out_line = Subtitle(index = 1,\n",
    "                    start = timedelta(seconds = timedelta(seconds = start).seconds,\n",
    "                    microseconds = timedelta(seconds = start).microseconds),\n",
    "                    end = timedelta(seconds = timedelta(seconds = end).seconds,\n",
    "                    microseconds = timedelta(seconds = end).microseconds),\n",
    "                    content = text,\n",
    "                    proprietary = '')\n",
    "        out_text.append(out_line)\n",
    "        \n",
    "        \n",
    "    # srt形式のファイルをcsv形式に編集して保存する。\n",
    "    audio_name = extract_video_name(audio_file)\n",
    "\n",
    "    with open(\"csv_files/\" + audio_name + \".csv\", mode = \"w\", encoding = \"utf-8_sig\") as f:\n",
    "        origin = srt.compose(out_text)\n",
    "        origin = origin.replace(\",\", \".\")\n",
    "        origin = origin.replace(\"\\n\", \",\")\n",
    "        origin = origin.replace(\",,\", \"\\n\")\n",
    "        f.write(origin)"
   ]
  },
  {
   "cell_type": "code",
   "execution_count": null,
   "id": "7b917115",
   "metadata": {},
   "outputs": [],
   "source": []
  },
  {
   "cell_type": "markdown",
   "id": "0c760d0f",
   "metadata": {},
   "source": [
    "## csv_filesフィルダ内の全ての en csvファイルをExcelファイルに変換し、excel_file_for_srtフォルダに保存する"
   ]
  },
  {
   "cell_type": "code",
   "execution_count": null,
   "id": "54ca7da9",
   "metadata": {},
   "outputs": [],
   "source": [
    "# csv ファイルのパスを取得\n",
    "\n",
    "files = glob.glob('./csv_files/*.csv')\n",
    "files = [file.replace('\\\\', '/') for file in files]\n",
    "files"
   ]
  },
  {
   "cell_type": "code",
   "execution_count": null,
   "id": "500b05f0",
   "metadata": {},
   "outputs": [],
   "source": [
    "def extract_file_name(file_path):\n",
    "    p = r'\\/(.*)\\.'\n",
    "    file_name = re.findall(p, file_path)\n",
    "    file_name = file_name[0].split('/')[-1]\n",
    "    return file_name"
   ]
  },
  {
   "cell_type": "code",
   "execution_count": null,
   "id": "8a06ebab",
   "metadata": {},
   "outputs": [],
   "source": [
    "# sanity check\n",
    "\n",
    "extract_file_name(files[0])"
   ]
  },
  {
   "cell_type": "code",
   "execution_count": null,
   "id": "767c4f83",
   "metadata": {},
   "outputs": [],
   "source": [
    "# csvファイルを同名でexcelに変換し保存\n",
    "\n",
    "for file in files:\n",
    "    df = pd.read_csv(file, header = None)\n",
    "    file_name = extract_file_name(file)\n",
    "    df.to_excel('excel_files_for_srt/' + file_name + '.xlsx', index = False)"
   ]
  },
  {
   "cell_type": "code",
   "execution_count": null,
   "id": "d5c2fb0b",
   "metadata": {},
   "outputs": [],
   "source": []
  },
  {
   "cell_type": "markdown",
   "id": "7e88fb26",
   "metadata": {},
   "source": [
    "# <font color=\"red\">SUSPEND!!! $\\;$ excel_files_for_srtフォルダ内のすべてのExcelファイルを、google翻訳などで変換し、excel_files_for_srt_jaフォルダに入れてください。</font>"
   ]
  },
  {
   "cell_type": "code",
   "execution_count": null,
   "id": "d3514f1e",
   "metadata": {},
   "outputs": [],
   "source": []
  },
  {
   "cell_type": "markdown",
   "id": "d97c17a2",
   "metadata": {},
   "source": [
    "## excel_files_for_srt_ja内のすべての日本語excelファイルを、srtファイルに自動で変換し、srt_files_jaフォルダにコピーする。"
   ]
  },
  {
   "cell_type": "code",
   "execution_count": null,
   "id": "5470177d",
   "metadata": {},
   "outputs": [],
   "source": [
    "# 日本語Excelファイルのパスを取得\n",
    "\n",
    "files = glob.glob('./excel_files_for_srt_ja/*.xlsx')\n",
    "files = [file.replace('\\\\', '/') for file in files]\n",
    "files"
   ]
  },
  {
   "cell_type": "code",
   "execution_count": null,
   "id": "c81b047b",
   "metadata": {},
   "outputs": [],
   "source": [
    "# excelファイルをsrtファイルにしやすくする変換\n",
    "\n",
    "def excel2pre_srt(df):\n",
    "    \n",
    "    df_process_0 = pd.DataFrame(df[0])\n",
    "    df_process_0 = df_process_0.rename(columns = {0:'counter'})\n",
    "    df_process_1 = df[1].str.split(' --> ', expand = True)\n",
    "    df_process_1.columns = ['start','end']\n",
    "    df_process_2 = df_process_1['start'].str.split('.', expand = True)\n",
    "    df_process_2.columns = ['start','start_milli']\n",
    "    df_process_3 = df_process_1['end'].str.split('.', expand = True)\n",
    "    df_process_3.columns = ['end','end_milli']\n",
    "    df_pre_srt = pd.concat([df_process_0, df_process_2, df_process_3, df_process[2]], axis = 1)\n",
    "    df_pre_srt = df_pre_srt.rename(columns = {2:'text'})\n",
    "    \n",
    "    return df_pre_srt"
   ]
  },
  {
   "cell_type": "code",
   "execution_count": null,
   "id": "5dd5b283",
   "metadata": {},
   "outputs": [],
   "source": [
    "for file in files:\n",
    "    df_ja = pd.read_excel(file)\n",
    "    df_process = df_ja.copy()\n",
    "    \n",
    "    df_pre_srt = excel2pre_srt(df_process)\n",
    "    \n",
    "    video_name = extract_video_name(file)\n",
    "\n",
    "    with open(\"srt_files_ja/\" + video_name + \".srt\", mode = \"w\", encoding = \"utf-8\") as f:\n",
    "        for row in range(df_pre_srt.shape[0]):\n",
    "\n",
    "            counter     = df_pre_srt.loc[row, \"counter\"]\n",
    "            start       = df_pre_srt.loc[row, \"start\"].strip()\n",
    "            start_milli = df_pre_srt.loc[row, \"start_milli\"].strip()\n",
    "            end         = df_pre_srt.loc[row, \"end\"].strip()\n",
    "            end_milli   = df_pre_srt.loc[row, \"end_milli\"].strip()\n",
    "            text        = df_pre_srt.loc[row, \"text\"].strip()\n",
    "\n",
    "            print(counter, file = f)\n",
    "            print(start + ',' + start_milli + ' --> ' + end + ',' + end_milli, file = f)\n",
    "            print(text, file = f)\n",
    "            print(\"\", file = f)"
   ]
  },
  {
   "cell_type": "markdown",
   "id": "19eff986",
   "metadata": {},
   "source": [
    "## 字幕生成"
   ]
  },
  {
   "cell_type": "code",
   "execution_count": null,
   "id": "8518dfa4",
   "metadata": {},
   "outputs": [],
   "source": [
    "# videoファイルのパスの所得\n",
    "\n",
    "files = glob.glob('./input_video/*.mp4')\n",
    "files = [file.replace('\\\\', '/') for file in files]\n",
    "files"
   ]
  },
  {
   "cell_type": "code",
   "execution_count": null,
   "id": "0daa94a6",
   "metadata": {},
   "outputs": [],
   "source": [
    "for file in files:\n",
    "    input_path = file\n",
    "    video_name = extract_video_name(file)\n",
    "    print('processing ', video_name, '...')\n",
    "    \n",
    "    # assファイルの作成\n",
    "    new_path = shutil.copy('./srt_files_ja/' + video_name + '.srt', 'temp.srt')\n",
    "    cmd = \"ffmpeg -i temp.srt temp.ass\"\n",
    "    res = subprocess.call(cmd, shell = True)\n",
    "    \n",
    "    # 字幕処理するファイルを作業場にコピー\n",
    "    new_path = shutil.copy(file, 'temp_video.mp4')\n",
    "    \n",
    "    # 字幕付け\n",
    "    command = \"ffmpeg -i temp_video.mp4 -vf ass=temp.ass temp_video_sub.mp4\"\n",
    "    res = subprocess.call(command, shell = True)\n",
    "    \n",
    "    # Videoを保存\n",
    "    os.rename('temp_video_sub.mp4', video_name + '_sub.mp4')\n",
    "    new_path = shutil.move(video_name + '_sub.mp4', 'output_video_with_subtitle/' + video_name + '_sub.mp4')\n",
    "    \n",
    "    # 作業場のファイルを削除\n",
    "    os.remove('temp_video.mp4')\n",
    "    os.remove('temp.srt')\n",
    "    os.remove('temp.ass')\n",
    "    \n",
    "    print('... ', video_name, ' --- Done\\n')\n",
    "    \n",
    "print('ALL DONE!')"
   ]
  },
  {
   "cell_type": "code",
   "execution_count": null,
   "id": "73a28986",
   "metadata": {},
   "outputs": [],
   "source": []
  },
  {
   "cell_type": "code",
   "execution_count": null,
   "id": "7f6d86f8",
   "metadata": {},
   "outputs": [],
   "source": []
  },
  {
   "cell_type": "markdown",
   "id": "2c59adf7",
   "metadata": {},
   "source": [
    "## 引き続き動画を圧縮する場合"
   ]
  },
  {
   "cell_type": "code",
   "execution_count": null,
   "id": "93ebaa99",
   "metadata": {},
   "outputs": [],
   "source": [
    "# cmd_3 = 'ffmpeg -i Takataken_Kinugawa_sub.mp4 -crf 40 Takataken_Kinugawa_sub_small.mp4'\n",
    "# subprocess.call(cmd_3, shell=True)"
   ]
  },
  {
   "cell_type": "code",
   "execution_count": null,
   "id": "8c992826",
   "metadata": {},
   "outputs": [],
   "source": []
  },
  {
   "cell_type": "markdown",
   "id": "18f87bc1",
   "metadata": {},
   "source": [
    "## movieをカットする"
   ]
  },
  {
   "cell_type": "code",
   "execution_count": null,
   "id": "b8e8c4f2",
   "metadata": {
    "scrolled": false
   },
   "outputs": [],
   "source": [
    "# # 必要に応じてmp4ファイルの情報を取得\n",
    "\n",
    "# import sys\n",
    "# import ffmpeg\n",
    "# from pprint import pprint\n",
    "\n",
    "# in_filename = sys.argv[1]\n",
    "# probe = ffmpeg.probe('test.mp4')\n",
    "# for stream in probe['streams']:\n",
    "#     print('stream {0}: {1}'.format(stream['index'],stream['codec_type']))\n",
    "#     pprint(stream)\n",
    "#     print('')"
   ]
  },
  {
   "cell_type": "code",
   "execution_count": null,
   "id": "c8462b51",
   "metadata": {},
   "outputs": [],
   "source": [
    "from moviepy.editor import *\n",
    "file_path = \"test.mp4\"\n",
    "\n",
    "start = 9740          # in second\n",
    "end = start + 2000\n",
    "\n",
    "save_path = \"output.mp4\"\n",
    "\n",
    "video = VideoFileClip(file_path).subclip(start, end) \n",
    "video.write_videofile(save_path,fps=30)"
   ]
  },
  {
   "cell_type": "code",
   "execution_count": null,
   "id": "27b4abf1",
   "metadata": {},
   "outputs": [],
   "source": []
  }
 ],
 "metadata": {
  "kernelspec": {
   "display_name": "Python 3 (ipykernel)",
   "language": "python",
   "name": "python3"
  },
  "language_info": {
   "codemirror_mode": {
    "name": "ipython",
    "version": 3
   },
   "file_extension": ".py",
   "mimetype": "text/x-python",
   "name": "python",
   "nbconvert_exporter": "python",
   "pygments_lexer": "ipython3",
   "version": "3.10.9"
  }
 },
 "nbformat": 4,
 "nbformat_minor": 5
}
