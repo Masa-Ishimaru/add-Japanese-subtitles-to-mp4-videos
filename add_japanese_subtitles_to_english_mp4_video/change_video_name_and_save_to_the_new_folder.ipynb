{
 "cells": [
  {
   "cell_type": "code",
   "execution_count": null,
   "id": "0319a0dc",
   "metadata": {},
   "outputs": [],
   "source": [
    "import os\n",
    "import glob\n",
    "import re"
   ]
  },
  {
   "cell_type": "code",
   "execution_count": null,
   "id": "1b77cfc8",
   "metadata": {},
   "outputs": [],
   "source": [
    "os.makedirs('input_video', exist_ok = True)\n",
    "os.makedirs('renamed_video', exist_ok = True)"
   ]
  },
  {
   "cell_type": "code",
   "execution_count": null,
   "id": "3b6e7800",
   "metadata": {},
   "outputs": [],
   "source": [
    "files = glob.glob('./input_video/*.mp4')\n",
    "files = [file.replace('\\\\', '/') for file in files]\n",
    "files"
   ]
  },
  {
   "cell_type": "code",
   "execution_count": null,
   "id": "9ffc2187",
   "metadata": {},
   "outputs": [],
   "source": [
    "# pathを渡すと動画名のみを返す関数\n",
    "\n",
    "def change_video_name(video_path):\n",
    "    p1 = r'\\/(.*)\\.'\n",
    "    p2 = r'\\(.*\\)'\n",
    "    p3 = r'\\/(.*)\\('    \n",
    "    \n",
    "    video_name_1 = re.findall(p1, video_path)[0].split('/')[-1]\n",
    "    new_prefix   = re.findall(p2, video_name_1)[0]\n",
    "    video_name_2 = re.findall(p3, video_path)[0].split('/')[-1].strip()\n",
    "    dir_name     = re.findall(p1, video_path)[0].split('/')[0]\n",
    "    \n",
    "    path_1 = video_path\n",
    "    path_2 = './renamed_video/' + new_prefix + '_' + video_name_2 + '.mp4'\n",
    "    \n",
    "    return path_1, path_2"
   ]
  },
  {
   "cell_type": "code",
   "execution_count": null,
   "id": "4cc3d0ae",
   "metadata": {},
   "outputs": [],
   "source": [
    "change_video_name(files[0])"
   ]
  },
  {
   "cell_type": "code",
   "execution_count": null,
   "id": "b6a04173",
   "metadata": {},
   "outputs": [],
   "source": [
    "for file in files:\n",
    "    path_1, path_2 = change_video_name(file)    \n",
    "    os.rename(path_1, path_2)"
   ]
  },
  {
   "cell_type": "code",
   "execution_count": null,
   "id": "1394e0a3",
   "metadata": {},
   "outputs": [],
   "source": []
  },
  {
   "cell_type": "code",
   "execution_count": null,
   "id": "488c0fbb",
   "metadata": {},
   "outputs": [],
   "source": []
  }
 ],
 "metadata": {
  "kernelspec": {
   "display_name": "Python 3 (ipykernel)",
   "language": "python",
   "name": "python3"
  },
  "language_info": {
   "codemirror_mode": {
    "name": "ipython",
    "version": 3
   },
   "file_extension": ".py",
   "mimetype": "text/x-python",
   "name": "python",
   "nbconvert_exporter": "python",
   "pygments_lexer": "ipython3",
   "version": "3.10.9"
  }
 },
 "nbformat": 4,
 "nbformat_minor": 5
}
