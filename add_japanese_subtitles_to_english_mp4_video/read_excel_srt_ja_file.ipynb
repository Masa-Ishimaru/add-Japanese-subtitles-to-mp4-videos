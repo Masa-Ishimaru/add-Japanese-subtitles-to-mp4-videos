{
 "cells": [
  {
   "cell_type": "code",
   "execution_count": null,
   "id": "42e4ab67",
   "metadata": {},
   "outputs": [],
   "source": [
    "# ライブラリのインポート\n",
    "\n",
    "import os\n",
    "import glob\n",
    "import pandas as pd\n",
    "import re\n",
    "import pyttsx3"
   ]
  },
  {
   "cell_type": "markdown",
   "id": "b65bf621",
   "metadata": {},
   "source": [
    "## read excel file"
   ]
  },
  {
   "cell_type": "code",
   "execution_count": null,
   "id": "bd019630",
   "metadata": {},
   "outputs": [],
   "source": [
    "# 必要なフォルダを作成\n",
    "\n",
    "#os.makedirs('input_excel_files', exist_ok = True)           # 翻訳後のexcelファイルを入れる その他は空でよい\n",
    "os.makedirs('output_audio_files', exist_ok = True)"
   ]
  },
  {
   "cell_type": "code",
   "execution_count": null,
   "id": "cb193ac2",
   "metadata": {
    "scrolled": true
   },
   "outputs": [],
   "source": [
    "wp_path = os.getcwd()\n",
    "print(wp_path)"
   ]
  },
  {
   "cell_type": "code",
   "execution_count": null,
   "id": "326fd427",
   "metadata": {},
   "outputs": [],
   "source": [
    "#files = glob.glob('./input_excel_files/*.xlsx')\n",
    "files = glob.glob('./excel_files_for_srt_ja/*.xlsx')\n",
    "files = [file.replace('\\\\', '/') for file in files]\n",
    "files"
   ]
  },
  {
   "cell_type": "code",
   "execution_count": null,
   "id": "67fadae7",
   "metadata": {
    "scrolled": true
   },
   "outputs": [],
   "source": [
    "# ファイル名のみを取り出す関数\n",
    "\n",
    "def extract_file_name(file_path):\n",
    "    p = r'\\/(.*)\\.'\n",
    "    file_name = re.findall(p, file_path)\n",
    "    file_name = file_name[0].split('/')[-1]\n",
    "    return file_name"
   ]
  },
  {
   "cell_type": "code",
   "execution_count": null,
   "id": "aa602186",
   "metadata": {},
   "outputs": [],
   "source": [
    "# sanity check\n",
    "\n",
    "extract_file_name(files[0])"
   ]
  },
  {
   "cell_type": "markdown",
   "id": "636234d5",
   "metadata": {},
   "source": [
    "## 日本語srtのexcelファイルを自動的に順次読み込み、mp3に変換し保存する"
   ]
  },
  {
   "cell_type": "code",
   "execution_count": null,
   "id": "a54d11f6",
   "metadata": {},
   "outputs": [],
   "source": [
    "# ファイルを読み込み、音声に変換する関数\n",
    "\n",
    "def read_exce_make_mp3(df, file_name):\n",
    "    text_all = str()\n",
    "    for row in range(df.shape[0]):\n",
    "        text_jp = df.iloc[row, 2]\n",
    "        text_all = text_all + '...' + str(text_jp)\n",
    "        \n",
    "    return text_all"
   ]
  },
  {
   "cell_type": "code",
   "execution_count": null,
   "id": "8f6cd042",
   "metadata": {},
   "outputs": [],
   "source": [
    "# make_mp3の実施\n",
    "\n",
    "for file in files:\n",
    "    df = pd.read_excel(file)\n",
    "    file_name = extract_file_name(file)\n",
    "    print('processing ', file_name, '...')\n",
    "    \n",
    "    text_all = read_exce_make_mp3(df, file_name)    \n",
    "    \n",
    "    engine = pyttsx3.init()\n",
    "    engine.save_to_file(text_all, 'output_audio_files/' + file_name + '_reading_audio.mp3')\n",
    "    engine.runAndWait()\n",
    "\n",
    "    print('... ', file_name, ' --- Done\\n')\n",
    "\n",
    "print('ALL DONE!')"
   ]
  },
  {
   "cell_type": "code",
   "execution_count": null,
   "id": "7b00666a",
   "metadata": {},
   "outputs": [],
   "source": []
  },
  {
   "cell_type": "code",
   "execution_count": null,
   "id": "d085cd5b",
   "metadata": {},
   "outputs": [],
   "source": []
  }
 ],
 "metadata": {
  "kernelspec": {
   "display_name": "Python 3 (ipykernel)",
   "language": "python",
   "name": "python3"
  },
  "language_info": {
   "codemirror_mode": {
    "name": "ipython",
    "version": 3
   },
   "file_extension": ".py",
   "mimetype": "text/x-python",
   "name": "python",
   "nbconvert_exporter": "python",
   "pygments_lexer": "ipython3",
   "version": "3.10.9"
  }
 },
 "nbformat": 4,
 "nbformat_minor": 5
}
